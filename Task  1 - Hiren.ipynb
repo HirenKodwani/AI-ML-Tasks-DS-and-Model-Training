{
 "cells": [
  {
   "cell_type": "markdown",
   "id": "fee19153",
   "metadata": {},
   "source": [
    "Task 1: Data Cleaning & Preprocessing (Titanic Dataset)\n"
   ]
  },
  {
   "cell_type": "code",
   "execution_count": 2,
   "id": "db1f2ca5",
   "metadata": {},
   "outputs": [],
   "source": [
    "import pandas as pd\n",
    "import numpy as np\n",
    "import matplotlib.pyplot as plt\n",
    "import seaborn as sns\n",
    "from sklearn.preprocessing import MinMaxScaler, StandardScaler"
   ]
  },
  {
   "cell_type": "code",
   "execution_count": 3,
   "id": "cd82c40d",
   "metadata": {},
   "outputs": [
    {
     "name": "stdout",
     "output_type": "stream",
     "text": [
      "   PassengerId  Survived  Pclass  \\\n",
      "0            1         0       3   \n",
      "1            2         1       1   \n",
      "2            3         1       3   \n",
      "3            4         1       1   \n",
      "4            5         0       3   \n",
      "\n",
      "                                                Name     Sex   Age  SibSp  \\\n",
      "0                            Braund, Mr. Owen Harris    male  22.0      1   \n",
      "1  Cumings, Mrs. John Bradley (Florence Briggs Th...  female  38.0      1   \n",
      "2                             Heikkinen, Miss. Laina  female  26.0      0   \n",
      "3       Futrelle, Mrs. Jacques Heath (Lily May Peel)  female  35.0      1   \n",
      "4                           Allen, Mr. William Henry    male  35.0      0   \n",
      "\n",
      "   Parch            Ticket     Fare Cabin Embarked  \n",
      "0      0         A/5 21171   7.2500   NaN        S  \n",
      "1      0          PC 17599  71.2833   C85        C  \n",
      "2      0  STON/O2. 3101282   7.9250   NaN        S  \n",
      "3      0            113803  53.1000  C123        S  \n",
      "4      0            373450   8.0500   NaN        S  \n",
      "<class 'pandas.core.frame.DataFrame'>\n",
      "RangeIndex: 891 entries, 0 to 890\n",
      "Data columns (total 12 columns):\n",
      " #   Column       Non-Null Count  Dtype  \n",
      "---  ------       --------------  -----  \n",
      " 0   PassengerId  891 non-null    int64  \n",
      " 1   Survived     891 non-null    int64  \n",
      " 2   Pclass       891 non-null    int64  \n",
      " 3   Name         891 non-null    object \n",
      " 4   Sex          891 non-null    object \n",
      " 5   Age          714 non-null    float64\n",
      " 6   SibSp        891 non-null    int64  \n",
      " 7   Parch        891 non-null    int64  \n",
      " 8   Ticket       891 non-null    object \n",
      " 9   Fare         891 non-null    float64\n",
      " 10  Cabin        204 non-null    object \n",
      " 11  Embarked     889 non-null    object \n",
      "dtypes: float64(2), int64(5), object(5)\n",
      "memory usage: 83.7+ KB\n",
      "None\n",
      "        PassengerId    Survived      Pclass                 Name   Sex  \\\n",
      "count    891.000000  891.000000  891.000000                  891   891   \n",
      "unique          NaN         NaN         NaN                  891     2   \n",
      "top             NaN         NaN         NaN  Dooley, Mr. Patrick  male   \n",
      "freq            NaN         NaN         NaN                    1   577   \n",
      "mean     446.000000    0.383838    2.308642                  NaN   NaN   \n",
      "std      257.353842    0.486592    0.836071                  NaN   NaN   \n",
      "min        1.000000    0.000000    1.000000                  NaN   NaN   \n",
      "25%      223.500000    0.000000    2.000000                  NaN   NaN   \n",
      "50%      446.000000    0.000000    3.000000                  NaN   NaN   \n",
      "75%      668.500000    1.000000    3.000000                  NaN   NaN   \n",
      "max      891.000000    1.000000    3.000000                  NaN   NaN   \n",
      "\n",
      "               Age       SibSp       Parch  Ticket        Fare Cabin Embarked  \n",
      "count   714.000000  891.000000  891.000000     891  891.000000   204      889  \n",
      "unique         NaN         NaN         NaN     681         NaN   147        3  \n",
      "top            NaN         NaN         NaN  347082         NaN    G6        S  \n",
      "freq           NaN         NaN         NaN       7         NaN     4      644  \n",
      "mean     29.699118    0.523008    0.381594     NaN   32.204208   NaN      NaN  \n",
      "std      14.526497    1.102743    0.806057     NaN   49.693429   NaN      NaN  \n",
      "min       0.420000    0.000000    0.000000     NaN    0.000000   NaN      NaN  \n",
      "25%      20.125000    0.000000    0.000000     NaN    7.910400   NaN      NaN  \n",
      "50%      28.000000    0.000000    0.000000     NaN   14.454200   NaN      NaN  \n",
      "75%      38.000000    1.000000    0.000000     NaN   31.000000   NaN      NaN  \n",
      "max      80.000000    8.000000    6.000000     NaN  512.329200   NaN      NaN  \n",
      "PassengerId      0\n",
      "Survived         0\n",
      "Pclass           0\n",
      "Name             0\n",
      "Sex              0\n",
      "Age            177\n",
      "SibSp            0\n",
      "Parch            0\n",
      "Ticket           0\n",
      "Fare             0\n",
      "Cabin          687\n",
      "Embarked         2\n",
      "dtype: int64\n"
     ]
    }
   ],
   "source": [
    "\n",
    "df = pd.read_csv(\"C:/Users/ADMIN/Downloads/archive/Titanic-Dataset.csv\")\n",
    "\n",
    "print(df.head())\n",
    "print(df.info())\n",
    "# Statistical summary\n",
    "print(df.describe(include=\"all\"))\n",
    "print(df.isnull().sum())\n"
   ]
  },
  {
   "cell_type": "markdown",
   "id": "385f9435",
   "metadata": {},
   "source": [
    "Missing Values"
   ]
  },
  {
   "cell_type": "code",
   "execution_count": 4,
   "id": "51e79e53",
   "metadata": {},
   "outputs": [
    {
     "name": "stdout",
     "output_type": "stream",
     "text": [
      "PassengerId    0\n",
      "Survived       0\n",
      "Pclass         0\n",
      "Name           0\n",
      "Sex            0\n",
      "Age            0\n",
      "SibSp          0\n",
      "Parch          0\n",
      "Ticket         0\n",
      "Fare           0\n",
      "Embarked       0\n",
      "dtype: int64\n"
     ]
    },
    {
     "name": "stderr",
     "output_type": "stream",
     "text": [
      "C:\\Users\\ADMIN\\AppData\\Local\\Temp\\ipykernel_23976\\3484716749.py:2: FutureWarning: A value is trying to be set on a copy of a DataFrame or Series through chained assignment using an inplace method.\n",
      "The behavior will change in pandas 3.0. This inplace method will never work because the intermediate object on which we are setting values always behaves as a copy.\n",
      "\n",
      "For example, when doing 'df[col].method(value, inplace=True)', try using 'df.method({col: value}, inplace=True)' or df[col] = df[col].method(value) instead, to perform the operation inplace on the original object.\n",
      "\n",
      "\n",
      "  df['Age'].fillna(df['Age'].median(), inplace=True)\n",
      "C:\\Users\\ADMIN\\AppData\\Local\\Temp\\ipykernel_23976\\3484716749.py:3: FutureWarning: A value is trying to be set on a copy of a DataFrame or Series through chained assignment using an inplace method.\n",
      "The behavior will change in pandas 3.0. This inplace method will never work because the intermediate object on which we are setting values always behaves as a copy.\n",
      "\n",
      "For example, when doing 'df[col].method(value, inplace=True)', try using 'df.method({col: value}, inplace=True)' or df[col] = df[col].method(value) instead, to perform the operation inplace on the original object.\n",
      "\n",
      "\n",
      "  df['Embarked'].fillna(df['Embarked'].mode()[0], inplace=True)\n"
     ]
    }
   ],
   "source": [
    "# Fill Age with median\n",
    "df['Age'].fillna(df['Age'].median(), inplace=True)\n",
    "df['Embarked'].fillna(df['Embarked'].mode()[0], inplace=True)\n",
    "\n",
    "df.drop(columns=['Cabin'], inplace=True)\n",
    "print(df.isnull().sum())\n"
   ]
  },
  {
   "cell_type": "markdown",
   "id": "f44136f7",
   "metadata": {},
   "source": [
    "Categorical Variables"
   ]
  },
  {
   "cell_type": "code",
   "execution_count": 5,
   "id": "57cfa8a9",
   "metadata": {},
   "outputs": [
    {
     "name": "stdout",
     "output_type": "stream",
     "text": [
      "   PassengerId  Survived  Pclass  \\\n",
      "0            1         0       3   \n",
      "1            2         1       1   \n",
      "2            3         1       3   \n",
      "3            4         1       1   \n",
      "4            5         0       3   \n",
      "\n",
      "                                                Name  Sex   Age  SibSp  Parch  \\\n",
      "0                            Braund, Mr. Owen Harris    0  22.0      1      0   \n",
      "1  Cumings, Mrs. John Bradley (Florence Briggs Th...    1  38.0      1      0   \n",
      "2                             Heikkinen, Miss. Laina    1  26.0      0      0   \n",
      "3       Futrelle, Mrs. Jacques Heath (Lily May Peel)    1  35.0      1      0   \n",
      "4                           Allen, Mr. William Henry    0  35.0      0      0   \n",
      "\n",
      "             Ticket     Fare  Embarked_Q  Embarked_S  \n",
      "0         A/5 21171   7.2500       False        True  \n",
      "1          PC 17599  71.2833       False       False  \n",
      "2  STON/O2. 3101282   7.9250       False        True  \n",
      "3            113803  53.1000       False        True  \n",
      "4            373450   8.0500       False        True  \n"
     ]
    }
   ],
   "source": [
    "# Convert Gender/Sex to numeric\n",
    "df['Sex'] = df['Sex'].map({'male': 0, 'female': 1})\n",
    "df = pd.get_dummies(df, columns=['Embarked'], drop_first=True)\n",
    "\n",
    "print(df.head())"
   ]
  },
  {
   "cell_type": "markdown",
   "id": "ea4251e7",
   "metadata": {},
   "source": [
    "Normalization & Standardization"
   ]
  },
  {
   "cell_type": "code",
   "execution_count": 6,
   "id": "1ae37b81",
   "metadata": {},
   "outputs": [
    {
     "name": "stdout",
     "output_type": "stream",
     "text": [
      "    Age  Age_norm   Age_std\n",
      "0  22.0  0.271174 -0.565736\n",
      "1  38.0  0.472229  0.663861\n",
      "2  26.0  0.321438 -0.258337\n",
      "3  35.0  0.434531  0.433312\n",
      "4  35.0  0.434531  0.433312\n"
     ]
    }
   ],
   "source": [
    "#scaling on Age and Fare\n",
    "scaler_norm = MinMaxScaler()\n",
    "scaler_std = StandardScaler()\n",
    "\n",
    "df[['Age_norm', 'Fare_norm']] = scaler_norm.fit_transform(df[['Age', 'Fare']])\n",
    "df[['Age_std', 'Fare_std']] = scaler_std.fit_transform(df[['Age', 'Fare']])\n",
    "\n",
    "print(df[['Age', 'Age_norm', 'Age_std']].head())\n"
   ]
  },
  {
   "cell_type": "markdown",
   "id": "721195ee",
   "metadata": {},
   "source": [
    "Outlier Detection & Removal"
   ]
  },
  {
   "cell_type": "code",
   "execution_count": 7,
   "id": "f9f81259",
   "metadata": {},
   "outputs": [
    {
     "data": {
      "image/png": "[encoded data removed]",
      "text/plain": [
       "<Figure size 640x480 with 1 Axes>"
      ]
     },
     "metadata": {},
     "output_type": "display_data"
    },
    {
     "name": "stdout",
     "output_type": "stream",
     "text": [
      "After removing outliers, shape = (775, 16)\n"
     ]
    }
   ],
   "source": [
    "# Boxplot\n",
    "sns.boxplot(x=df['Fare'])\n",
    "plt.show()\n",
    "\n",
    "# Remove outliers using IQR\n",
    "Q1 = df['Fare'].quantile(0.25)\n",
    "Q3 = df['Fare'].quantile(0.75)\n",
    "IQR = Q3 - Q1\n",
    "lower_bound = Q1 - 1.5 * IQR\n",
    "upper_bound = Q3 + 1.5 * IQR\n",
    "\n",
    "df = df[(df['Fare'] >= lower_bound) & (df['Fare'] <= upper_bound)]\n",
    "\n",
    "print(\"After removing outliers, shape =\", df.shape)\n"
   ]
  },
  {
   "cell_type": "markdown",
   "id": "531dd93f",
   "metadata": {},
   "source": [
    "Saving Clean Datase"
   ]
  },
  {
   "cell_type": "code",
   "execution_count": 8,
   "id": "2150f31e",
   "metadata": {},
   "outputs": [
    {
     "name": "stdout",
     "output_type": "stream",
     "text": [
      "   PassengerId  Survived  Pclass  \\\n",
      "0            1         0       3   \n",
      "2            3         1       3   \n",
      "3            4         1       1   \n",
      "4            5         0       3   \n",
      "5            6         0       3   \n",
      "\n",
      "                                           Name  Sex   Age  SibSp  Parch  \\\n",
      "0                       Braund, Mr. Owen Harris    0  22.0      1      0   \n",
      "2                        Heikkinen, Miss. Laina    1  26.0      0      0   \n",
      "3  Futrelle, Mrs. Jacques Heath (Lily May Peel)    1  35.0      1      0   \n",
      "4                      Allen, Mr. William Henry    0  35.0      0      0   \n",
      "5                              Moran, Mr. James    0  28.0      0      0   \n",
      "\n",
      "             Ticket     Fare  Embarked_Q  Embarked_S  Age_norm  Fare_norm  \\\n",
      "0         A/5 21171   7.2500       False        True  0.271174   0.014151   \n",
      "2  STON/O2. 3101282   7.9250       False        True  0.321438   0.015469   \n",
      "3            113803  53.1000       False        True  0.434531   0.103644   \n",
      "4            373450   8.0500       False        True  0.434531   0.015713   \n",
      "5            330877   8.4583        True       False  0.346569   0.016510   \n",
      "\n",
      "    Age_std  Fare_std  \n",
      "0 -0.565736 -0.502445  \n",
      "2 -0.258337 -0.488854  \n",
      "3  0.433312  0.420730  \n",
      "4  0.433312 -0.486337  \n",
      "5 -0.104637 -0.478116  \n",
      "<class 'pandas.core.frame.DataFrame'>\n",
      "Index: 775 entries, 0 to 890\n",
      "Data columns (total 16 columns):\n",
      " #   Column       Non-Null Count  Dtype  \n",
      "---  ------       --------------  -----  \n",
      " 0   PassengerId  775 non-null    int64  \n",
      " 1   Survived     775 non-null    int64  \n",
      " 2   Pclass       775 non-null    int64  \n",
      " 3   Name         775 non-null    object \n",
      " 4   Sex          775 non-null    int64  \n",
      " 5   Age          775 non-null    float64\n",
      " 6   SibSp        775 non-null    int64  \n",
      " 7   Parch        775 non-null    int64  \n",
      " 8   Ticket       775 non-null    object \n",
      " 9   Fare         775 non-null    float64\n",
      " 10  Embarked_Q   775 non-null    bool   \n",
      " 11  Embarked_S   775 non-null    bool   \n",
      " 12  Age_norm     775 non-null    float64\n",
      " 13  Fare_norm    775 non-null    float64\n",
      " 14  Age_std      775 non-null    float64\n",
      " 15  Fare_std     775 non-null    float64\n",
      "dtypes: bool(2), float64(6), int64(6), object(2)\n",
      "memory usage: 92.3+ KB\n",
      "None\n"
     ]
    }
   ],
   "source": [
    "print(df.head())\n",
    "print(df.info())\n"
   ]
  }
 ],
 "metadata": {
  "kernelspec": {
   "display_name": "Python 3",
   "language": "python",
   "name": "python3"
  },
  "language_info": {
   "codemirror_mode": {
    "name": "ipython",
    "version": 3
   },
   "file_extension": ".py",
   "mimetype": "text/x-python",
   "name": "python",
   "nbconvert_exporter": "python",
   "pygments_lexer": "ipython3",
   "version": "3.13.2"
  }
 },
 "nbformat": 4,
 "nbformat_minor": 5
}
